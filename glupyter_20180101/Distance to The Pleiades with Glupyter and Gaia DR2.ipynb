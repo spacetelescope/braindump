{
 "cells": [
  {
   "cell_type": "code",
   "execution_count": null,
   "metadata": {},
   "outputs": [],
   "source": [
    "import io\n",
    "import os\n",
    "from urllib import parse\n",
    "from xml import etree\n",
    "import zipfile\n",
    "\n",
    "import requests\n",
    "\n",
    "import numpy as np\n",
    "\n",
    "from scipy import spatial\n",
    "\n",
    "from astropy import units as u\n",
    "from astropy import table\n",
    "from astropy import wcs\n",
    "from astropy.coordinates import Distance\n",
    "\n",
    "from astropy.io import fits"
   ]
  },
  {
   "cell_type": "code",
   "execution_count": null,
   "metadata": {},
   "outputs": [],
   "source": [
    "import glue_jupyter as gj\n",
    "from glue import core as gcore"
   ]
  },
  {
   "cell_type": "markdown",
   "metadata": {},
   "source": [
    "# Load the Pleiades "
   ]
  },
  {
   "cell_type": "markdown",
   "metadata": {},
   "source": [
    "We start by downloading the Gaia DR2 dataset for the 3 degree area around the Pleiades using `astroquery`"
   ]
  },
  {
   "cell_type": "code",
   "execution_count": null,
   "metadata": {},
   "outputs": [],
   "source": [
    "from astroquery import gaia"
   ]
  },
  {
   "cell_type": "markdown",
   "metadata": {},
   "source": [
    "The below will either download the dataset and save it locally, or it will load the saved copy if you've already downloaded."
   ]
  },
  {
   "cell_type": "code",
   "execution_count": null,
   "metadata": {},
   "outputs": [],
   "source": [
    "tabfn = 'M45_gaia.ecsv'\n",
    "if os.path.isfile(tabfn):\n",
    "    tab = table.Table.read(tabfn)\n",
    "else:\n",
    "    tab = gaia.Gaia.query_object_async('Messier 45', 90*u.arcmin)\n",
    "    tab.write(tabfn, format='ascii.ecsv')\n",
    "tab = table.QTable(tab)\n",
    "len(tab)"
   ]
  },
  {
   "cell_type": "markdown",
   "metadata": {},
   "source": [
    "Now lets select a sub-set of interesting columns, and sub-sample on the part of the dataset that has a valid distance and is within a reasonable range that could be anywhere near us."
   ]
  },
  {
   "cell_type": "code",
   "execution_count": null,
   "metadata": {},
   "outputs": [],
   "source": [
    "subtab = tab['designation', 'ra', 'dec', 'parallax', 'parallax_error', 'pmra', 'pmra_error', 'pmdec', 'pmdec_error', \n",
    "             'phot_g_mean_mag' ,'bp_rp']\n",
    "\n",
    "subtab['distance'] = u.Quantity(subtab['parallax']).to(u.pc, u.parallax())\n",
    "subtab['distance_error'] = u.Quantity(subtab['parallax_error']).to(u.pc, u.parallax())\n",
    "\n",
    "subtab = subtab[np.isfinite(subtab['distance'])&(u.Quantity(subtab['distance'])<300*u.pc)&(subtab['distance']>0)]\n",
    "len(subtab)"
   ]
  },
  {
   "cell_type": "markdown",
   "metadata": {},
   "source": [
    "# Set up Glupyter "
   ]
  },
  {
   "cell_type": "markdown",
   "metadata": {},
   "source": [
    "Now we set up a data object for Glupyter, and create a Glupyter app for further examination."
   ]
  },
  {
   "cell_type": "code",
   "execution_count": null,
   "metadata": {},
   "outputs": [],
   "source": [
    "len(subtab.colnames)"
   ]
  },
  {
   "cell_type": "code",
   "execution_count": null,
   "metadata": {},
   "outputs": [],
   "source": [
    "gaia_data = gcore.Data('Gaia_Pleiades', **subtab)"
   ]
  },
  {
   "cell_type": "code",
   "execution_count": null,
   "metadata": {},
   "outputs": [],
   "source": [
    "#a million points... \n",
    "#t2=table.vstack([subtab]*400)\n",
    "#gaia_data = gcore.Data('Gaia_Pleiades', **t2)"
   ]
  },
  {
   "cell_type": "code",
   "execution_count": null,
   "metadata": {},
   "outputs": [],
   "source": [
    "app = gj.jglue(gaia_data)"
   ]
  },
  {
   "cell_type": "code",
   "execution_count": null,
   "metadata": {},
   "outputs": [],
   "source": [
    "app.scatter3d('ra', 'dec', 'distance')"
   ]
  },
  {
   "cell_type": "code",
   "execution_count": null,
   "metadata": {},
   "outputs": [],
   "source": [
    "app.scatter2d('distance', 'phot_g_mean_mag')"
   ]
  },
  {
   "cell_type": "code",
   "execution_count": null,
   "metadata": {},
   "outputs": [],
   "source": [
    "cmd = app.scatter2d('bp_rp', 'phot_g_mean_mag')\n",
    "cmd.state.y_max, cmd.state.y_min = cmd.state.y_min, cmd.state.y_max"
   ]
  },
  {
   "cell_type": "code",
   "execution_count": null,
   "metadata": {},
   "outputs": [],
   "source": [
    "scatpm = app.scatter2d('pmra', 'pmdec')\n",
    "scatpm.scale_x.min = -100\n",
    "scatpm.scale_x.max = 100\n",
    "scatpm.scale_y.min = -100\n",
    "scatpm.scale_y.max = 100"
   ]
  },
  {
   "cell_type": "code",
   "execution_count": null,
   "metadata": {},
   "outputs": [],
   "source": [
    "scatra = app.scatter2d('pmra', 'pmra_error')\n",
    "scatra.state.x_min, scatra.state.x_max = -50, 50\n",
    "\n",
    "scatdec = app.scatter2d('pmdec', 'pmdec_error')\n",
    "scatdec.state.x_min, scatdec.state.x_max = -100, 50"
   ]
  },
  {
   "cell_type": "markdown",
   "metadata": {},
   "source": [
    "Now go ahead a select a subset using all the plots above..."
   ]
  },
  {
   "cell_type": "code",
   "execution_count": null,
   "metadata": {},
   "outputs": [],
   "source": [
    "seltab = subtab[gaia_data.subsets[0].to_mask()]"
   ]
  },
  {
   "cell_type": "markdown",
   "metadata": {},
   "source": [
    "And compute the distance to the Pleiades!"
   ]
  },
  {
   "cell_type": "code",
   "execution_count": null,
   "metadata": {},
   "outputs": [],
   "source": [
    "np.mean(seltab['distance'])"
   ]
  },
  {
   "cell_type": "markdown",
   "metadata": {},
   "source": [
    "Or some percentiles"
   ]
  },
  {
   "cell_type": "code",
   "execution_count": null,
   "metadata": {},
   "outputs": [],
   "source": [
    "np.percentile(seltab['distance'], [10, 32, 50, 68, 90])"
   ]
  },
  {
   "cell_type": "markdown",
   "metadata": {},
   "source": [
    "And while we're at it - lets see what the mean proper motion is:"
   ]
  },
  {
   "cell_type": "code",
   "execution_count": null,
   "metadata": {},
   "outputs": [],
   "source": [
    "np.mean(seltab['pmra']), np.mean(seltab['pmdec'])"
   ]
  },
  {
   "cell_type": "code",
   "execution_count": null,
   "metadata": {},
   "outputs": [],
   "source": [
    "np.mean(np.hypot(seltab['pmra']*np.cos(seltab['dec']), seltab['pmdec']))"
   ]
  },
  {
   "cell_type": "markdown",
   "metadata": {},
   "source": [
    "# Now overlay HST image "
   ]
  },
  {
   "cell_type": "markdown",
   "metadata": {},
   "source": [
    "Now we look at an HST image of a small part of the Pleiades, and try overplotting some of the Gaia stars"
   ]
  },
  {
   "cell_type": "code",
   "execution_count": null,
   "metadata": {},
   "outputs": [],
   "source": [
    "from astroquery.mast import Observations"
   ]
  },
  {
   "cell_type": "code",
   "execution_count": null,
   "metadata": {
    "scrolled": false
   },
   "outputs": [],
   "source": [
    "mast_qry = Observations.query_criteria(target_name='PLEIADESFIELD1B', obs_collection='hst')\n",
    "mast_qry"
   ]
  },
  {
   "cell_type": "markdown",
   "metadata": {},
   "source": [
    "Now lets download just the final drizzled image for the observation with the bluer filter (highest resolution): F475W"
   ]
  },
  {
   "cell_type": "code",
   "execution_count": null,
   "metadata": {},
   "outputs": [],
   "source": [
    "result = Observations.download_products(mast_qry['obsid'][mast_qry['filters']=='F475W'], \n",
    "                                        productSubGroupDescription='DRZ')\n",
    "result['Local Path']"
   ]
  },
  {
   "cell_type": "code",
   "execution_count": null,
   "metadata": {},
   "outputs": [],
   "source": [
    "assert len(result) == 1\n",
    "\n",
    "f475w_image = fits.open(result['Local Path'][0])"
   ]
  },
  {
   "cell_type": "markdown",
   "metadata": {},
   "source": [
    "Now we add the image data to glue and display it:"
   ]
  },
  {
   "cell_type": "code",
   "execution_count": null,
   "metadata": {
    "scrolled": false
   },
   "outputs": [],
   "source": [
    "sciim = app.add_data(f475w=f475w_image)[0]\n",
    "imview = app.imshow(data=sciim)"
   ]
  },
  {
   "cell_type": "markdown",
   "metadata": {},
   "source": [
    "Now we glue together the image and the Gaia data. (Note that it might take some time for the view to catch up after you make the link.)"
   ]
  },
  {
   "cell_type": "code",
   "execution_count": null,
   "metadata": {},
   "outputs": [],
   "source": [
    "app.add_link(gaia_data, 'ra', sciim, 'Right Ascension')\n",
    "app.add_link(gaia_data,'dec', sciim, 'Declination')\n",
    "\n",
    "imview.add_data(gaia_data)"
   ]
  },
  {
   "cell_type": "markdown",
   "metadata": {},
   "source": [
    "Markers should appear in the image viewer. You may need to fiddle with the color a bit to see the markers.  Since you've already made your subset selection: are any of the Pleiades members in the HST field?"
   ]
  },
  {
   "cell_type": "markdown",
   "metadata": {},
   "source": [
    "You'll probably see them: they are there, but clearly offset from where the HST image has them!  This might at first appear to be a bug, but it's not.  Why might this be?"
   ]
  },
  {
   "cell_type": "markdown",
   "metadata": {},
   "source": [
    "# Get Isochrone "
   ]
  },
  {
   "cell_type": "code",
   "execution_count": null,
   "metadata": {},
   "outputs": [],
   "source": [
    "data = {'version': 1.2,\n",
    "'v_div_vcrit': 'vvcrit0.4',\n",
    "'age_scale': 'log10',\n",
    "'age_value': 6,\n",
    "'age_type': 'range',\n",
    "'age_range_low': 5.01,\n",
    "'age_range_high': 8.01,\n",
    "'age_range_delta': .2,\n",
    "'age_list': '',\n",
    "'FeH_value': 0.03,\n",
    "'theory_output': 'basic',\n",
    "'output_option': 'photometry',\n",
    "'output': 'UBVRIplus',\n",
    "'Av_value': 0}\n",
    "\n",
    "isoc_search = requests.post('http://waps.cfa.harvard.edu/MIST/iso_form.php', data)\n",
    "isoc_search"
   ]
  },
  {
   "cell_type": "code",
   "execution_count": null,
   "metadata": {},
   "outputs": [],
   "source": [
    "et = etree.ElementTree.fromstring(isoc_search.text)\n",
    "relative_path = et.find('.//a').attrib['href']\n",
    "absolute_url = parse.urljoin(isoc_search.url, relative_path)\n",
    "absolute_url"
   ]
  },
  {
   "cell_type": "code",
   "execution_count": null,
   "metadata": {},
   "outputs": [],
   "source": [
    "isoc_download = requests.get(absolute_url)\n",
    "\n",
    "zip_file = zipfile.ZipFile(io.BytesIO(isoc_download.content))\n",
    "isoc_file = zip_file.open(zip_file.namelist()[0])\n",
    "isoc = table.Table.read(isoc_file, format='ascii.commented_header', \n",
    "                        header_start=12, guess=False)"
   ]
  },
  {
   "cell_type": "code",
   "execution_count": null,
   "metadata": {},
   "outputs": [],
   "source": [
    "iG = isoc['Gaia_G_DR2Rev']\n",
    "ibprp = isoc['Gaia_BP_DR2Rev'] - isoc['Gaia_RP_DR2Rev']"
   ]
  },
  {
   "cell_type": "code",
   "execution_count": null,
   "metadata": {},
   "outputs": [],
   "source": [
    "#or to reload the downloaded version:\n",
    "#isoc = table.Table.read('MIST_iso_5b89469f74d5e.iso.cmd', format='ascii.commented_header',header_start=12, guess=False)"
   ]
  },
  {
   "cell_type": "markdown",
   "metadata": {},
   "source": [
    "## Experiment w/ isochrone "
   ]
  },
  {
   "cell_type": "markdown",
   "metadata": {},
   "source": [
    "Now we try adding an isochrone of stars over the top of the above.  Note that this is *completely* outside the Glue ecosystem, and would be exceedingly difficult to shoehorn into glue without custom file-writing."
   ]
  },
  {
   "cell_type": "code",
   "execution_count": null,
   "metadata": {},
   "outputs": [],
   "source": [
    "%matplotlib inline\n",
    "\n",
    "from matplotlib import pyplot as plt"
   ]
  },
  {
   "cell_type": "code",
   "execution_count": null,
   "metadata": {},
   "outputs": [],
   "source": [
    "misoc = isoc[isoc['log10_isochrone_age_yr']==7.41]\n",
    "miG = misoc['Gaia_G_DR2Rev']\n",
    "mibprp = misoc['Gaia_BP_DR2Rev'] - misoc['Gaia_RP_DR2Rev']"
   ]
  },
  {
   "cell_type": "code",
   "execution_count": null,
   "metadata": {},
   "outputs": [],
   "source": [
    "kdt = spatial.cKDTree(np.array([mibprp, miG + Distance(140*u.pc).distmod.value]).T)\n",
    "d, idx = kdt.query(np.array([gaia_data['bp_rp'], gaia_data['phot_g_mean_mag']]).T)"
   ]
  },
  {
   "cell_type": "code",
   "execution_count": null,
   "metadata": {},
   "outputs": [],
   "source": [
    "plt.figure(figsize=(12, 12))\n",
    "\n",
    "msk = d<.2\n",
    "plt.scatter(gaia_data['bp_rp'][msk], gaia_data['phot_g_mean_mag'][msk], c=d[msk], vmin=0, vmax=.5)\n",
    "plt.scatter(gaia_data['bp_rp'][~msk], gaia_data['phot_g_mean_mag'][~msk], c=d[~msk], vmin=0, vmax=.5, edgecolors='r')\n",
    "plt.colorbar()\n",
    "\n",
    "\n",
    "plt.ylim(20,-2)"
   ]
  },
  {
   "cell_type": "markdown",
   "metadata": {},
   "source": [
    "## Apply subset "
   ]
  },
  {
   "cell_type": "code",
   "execution_count": null,
   "metadata": {},
   "outputs": [],
   "source": [
    "gaia_data.add_component(d, 'cmd_distance')"
   ]
  },
  {
   "cell_type": "code",
   "execution_count": null,
   "metadata": {},
   "outputs": [],
   "source": [
    "app.data_collection.new_subset_group('isoc2', gaia_data.id['cmd_distance']<.2)"
   ]
  },
  {
   "cell_type": "code",
   "execution_count": null,
   "metadata": {},
   "outputs": [],
   "source": [
    "app.data_collection[0].subsets[1].style.color = 'blue'"
   ]
  },
  {
   "cell_type": "markdown",
   "metadata": {},
   "source": [
    "# How does this act like a GUI? "
   ]
  },
  {
   "cell_type": "code",
   "execution_count": null,
   "metadata": {},
   "outputs": [],
   "source": [
    "import ipywidgets"
   ]
  },
  {
   "cell_type": "code",
   "execution_count": null,
   "metadata": {},
   "outputs": [],
   "source": [
    "app2 = gj.jglue(gcore.Data('Gaia_Pleiades', **subtab))\n",
    "scatpm = app2.scatter2d('pmra', 'pmdec')\n",
    "for s in (scatpm.scale_x, scatpm.scale_y):\n",
    "    s.min = -100\n",
    "    s.max = 100\n",
    "cmd = app2.scatter2d('bp_rp', 'phot_g_mean_mag')\n",
    "cmd.state.y_max, cmd.state.y_min = cmd.state.y_min, cmd.state.y_max"
   ]
  },
  {
   "cell_type": "code",
   "execution_count": null,
   "metadata": {},
   "outputs": [],
   "source": [
    "b1 = ipywidgets.Button(description='Select Cluster')\n",
    "def on_b1_clicked(b):\n",
    "    data = app2.data_collection[0]\n",
    "    lowerror = (data.id['pmra_error'] < 1) & (data.id['pmdec_error'] < 1)\n",
    "    in_cluster = (data.id['pmra'] - 20)**2 + (data.id['pmdec'] - -45)**2 < (10)**2\n",
    "    sub = app2.data_collection.new_subset_group('cluster_circle', lowerror & in_cluster)\n",
    "    \n",
    "    \n",
    "b1.on_click(on_b1_clicked)"
   ]
  },
  {
   "cell_type": "code",
   "execution_count": null,
   "metadata": {},
   "outputs": [],
   "source": [
    "b2 = ipywidgets.Button(description='Select Milky Way')\n",
    "def on_b2_clicked(b):\n",
    "    data = app2.data_collection[0]\n",
    "    lowerror = (data.id['pmra_error'] < 1) & (data.id['pmdec_error'] < 1)\n",
    "    in_cluster = (data.id['pmra'])**2 + (data.id['pmdec'])**2 < (30)**2\n",
    "    sub = app2.data_collection.new_subset_group('mw_circle', lowerror & in_cluster)\n",
    "    \n",
    "    \n",
    "b2.on_click(on_b2_clicked)"
   ]
  },
  {
   "cell_type": "code",
   "execution_count": null,
   "metadata": {},
   "outputs": [],
   "source": [
    "mainv = ipywidgets.VBox([ipywidgets.HBox([b1, b2]), \n",
    "                         ipywidgets.HBox([scatpm.figure, cmd.figure])])\n",
    "mainv"
   ]
  },
  {
   "cell_type": "code",
   "execution_count": null,
   "metadata": {},
   "outputs": [],
   "source": []
  },
  {
   "cell_type": "code",
   "execution_count": null,
   "metadata": {},
   "outputs": [],
   "source": []
  },
  {
   "cell_type": "code",
   "execution_count": null,
   "metadata": {},
   "outputs": [],
   "source": []
  }
 ],
 "metadata": {
  "kernelspec": {
   "display_name": "Python 3",
   "language": "python",
   "name": "python3"
  },
  "language_info": {
   "codemirror_mode": {
    "name": "ipython",
    "version": 3
   },
   "file_extension": ".py",
   "mimetype": "text/x-python",
   "name": "python",
   "nbconvert_exporter": "python",
   "pygments_lexer": "ipython3",
   "version": "3.7.0"
  }
 },
 "nbformat": 4,
 "nbformat_minor": 2
}
